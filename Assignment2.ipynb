{
  "nbformat": 4,
  "nbformat_minor": 0,
  "metadata": {
    "colab": {
      "name": "Assignment2.ipynb",
      "provenance": [],
      "collapsed_sections": [],
      "authorship_tag": "ABX9TyPgHCdn8tljJlSAPxYDgrOm",
      "include_colab_link": true
    },
    "kernelspec": {
      "name": "python3",
      "display_name": "Python 3"
    },
    "language_info": {
      "name": "python"
    }
  },
  "cells": [
    {
      "cell_type": "markdown",
      "metadata": {
        "id": "view-in-github",
        "colab_type": "text"
      },
      "source": [
        "<a href=\"https://colab.research.google.com/github/vishnuvarthanv/Regex-DataScience/blob/main/Assignment2.ipynb\" target=\"_parent\"><img src=\"https://colab.research.google.com/assets/colab-badge.svg\" alt=\"Open In Colab\"/></a>"
      ]
    },
    {
      "cell_type": "markdown",
      "source": [
        "#Name: Vishnuvarthan\n",
        "\n",
        "#Subject : Assignment 2"
      ],
      "metadata": {
        "id": "z0A-SMexmbsZ"
      }
    },
    {
      "cell_type": "markdown",
      "source": [
        "##Question 1 - Email"
      ],
      "metadata": {
        "id": "tjKTkOckmmE5"
      }
    },
    {
      "cell_type": "code",
      "source": [
        "email=input(\"Enter your email: \")\n",
        "try:\n",
        "    FirstName=email.split(\".\",1)[0]\n",
        "    rem=email.split(\".\",1)[1]\n",
        "    LastName=rem.split(\"@\",1)[0]\n",
        "    rem=rem.split(\"@\",1)[1]\n",
        "    dom=rem\n",
        "    print(f'First Name is: {FirstName}')\n",
        "    print(f'Last Name is: {LastName}')\n",
        "    print(f'Domain Name is: www.{dom}')\n",
        "except:\n",
        "    print('Check your email Address, It should be <first name>.<lastname>@domain')"
      ],
      "metadata": {
        "colab": {
          "base_uri": "https://localhost:8080/"
        },
        "id": "DSy8gDVRmrfx",
        "outputId": "bd7c1500-a3fa-4fe0-ab7c-971dbd6d7459"
      },
      "execution_count": 1,
      "outputs": [
        {
          "output_type": "stream",
          "name": "stdout",
          "text": [
            "Enter your email: vishnuvarthan.v@gmail.com\n",
            "First Name is: vishnuvarthan\n",
            "Last Name is: v\n",
            "Domain Name is: www.gmail.com\n"
          ]
        }
      ]
    },
    {
      "cell_type": "markdown",
      "source": [
        "##Question 2 - Student"
      ],
      "metadata": {
        "id": "4jB2dFtnndg6"
      }
    },
    {
      "cell_type": "code",
      "source": [
        "noofstd=input('Enter No of Students :')\n",
        "noofstd=int(noofstd)\n",
        "for i in range(noofstd):\n",
        "    try:\n",
        "        student= input('Enter student Name :').upper()\n",
        "        English=input(f'Enter  {student}\\'s Marks in English:')\n",
        "        Maths=input(f'Enter {student} Marks in Maths:')\n",
        "        Science=input(f'Enter {student} Marks in Science:')\n",
        "        Computer=input(f'Enter {student} Marks in Computers:')\n",
        "        Total= int(English)+int(Maths)+int(Science)+int(Computer)\n",
        "        Percentage= round((Total/400)*100,5)\n",
        "        Average= round((Total/4),5)\n",
        "        if Percentage >=80 :\n",
        "            Grade='A Grade'\n",
        "        elif Percentage >=70 and Percentage <80 :\n",
        "            Grade='B Grade'\n",
        "        elif Percentage >=50 and Percentage <70 :\n",
        "            Grade='C Grade'\n",
        "        elif Percentage <50 :\n",
        "            Grade='Fail'  \n",
        "        print('Name\\t\\tEnglish\\t Maths\\t Science\\t Computers\\t Total\\t Average\\t Percentage\\t Grade\\n')\n",
        "        print(student+'\\t'+English+'\\t '+Maths+'\\t '+Science+'\\t\\t '+Computer+'\\t\\t '+str(Total)+'\\t '+str(Average)+'\\t\\t '+str(Percentage)+'\\t\\t '+Grade+'\\n')\n",
        "    except:\n",
        "        print('Enter Correct Details.............')"
      ],
      "metadata": {
        "colab": {
          "base_uri": "https://localhost:8080/"
        },
        "id": "Foom4tHsngaS",
        "outputId": "24c202d6-ee52-4082-ea9e-9205dc74dd0c"
      },
      "execution_count": 2,
      "outputs": [
        {
          "output_type": "stream",
          "name": "stdout",
          "text": [
            "Enter No of Students :2\n",
            "Enter student Name :Vishnuvarthan\n",
            "Enter  VISHNUVARTHAN's Marks in English:56\n",
            "Enter VISHNUVARTHAN Marks in Maths:86\n",
            "Enter VISHNUVARTHAN Marks in Science:71\n",
            "Enter VISHNUVARTHAN Marks in Computers:85\n",
            "Name\t\tEnglish\t Maths\t Science\t Computers\t Total\t Average\t Percentage\t Grade\n",
            "\n",
            "VISHNUVARTHAN\t56\t 86\t 71\t\t 85\t\t 298\t 74.5\t\t 74.5\t\t B Grade\n",
            "\n",
            "Enter student Name :Kumar\n",
            "Enter  KUMAR's Marks in English:35\n",
            "Enter KUMAR Marks in Maths:36\n",
            "Enter KUMAR Marks in Science:45\n",
            "Enter KUMAR Marks in Computers:85\n",
            "Name\t\tEnglish\t Maths\t Science\t Computers\t Total\t Average\t Percentage\t Grade\n",
            "\n",
            "KUMAR\t35\t 36\t 45\t\t 85\t\t 201\t 50.25\t\t 50.25\t\t C Grade\n",
            "\n"
          ]
        }
      ]
    },
    {
      "cell_type": "markdown",
      "source": [
        "##Question 3 - Employee"
      ],
      "metadata": {
        "id": "hDrMY-Fbos1b"
      }
    },
    {
      "cell_type": "code",
      "source": [
        "noofemp=int(input('Enter No of Employees :'))\n",
        "for i in range(noofemp):\n",
        "    try:\n",
        "        empname= input('Enter Employee Name :').upper()\n",
        "        empdesig= input(f'Enter {empname}\\'s Designation :').upper()\n",
        "        empexp= int(input(f'Enter {empname}\\'s Experiance :'))\n",
        "        empSal= int(input(f'Enter {empname}\\'s Salary :'))\n",
        "        if empdesig=='PM':\n",
        "            if empexp >15 :\n",
        "                salhike=empSal*.20\n",
        "                upsal=empSal+salhike\n",
        "            elif empexp >10 and empexp <=15 :\n",
        "                salhike=empSal*.15\n",
        "                upsal=empSal+salhike\n",
        "            else :\n",
        "                salhike=empSal*.12\n",
        "                upsal=empSal+salhike\n",
        "        elif empdesig=='TM':\n",
        "            if empexp >15 :\n",
        "                salhike=empSal*.22\n",
        "                upsal=empSal+salhike\n",
        "            elif empexp >12 and empexp <=15 :\n",
        "                salhike=empSal*.18\n",
        "                upsal=empSal+salhike\n",
        "            else :\n",
        "                salhike=empSal*.15\n",
        "                upsal=empSal+salhike\n",
        "        elif empdesig=='DEV':\n",
        "            if empexp >10 :\n",
        "                salhike=empSal*.18\n",
        "                upsal=empSal+salhike\n",
        "            elif empexp >8 and empexp <=10 :\n",
        "                salhike=empSal*.14\n",
        "                upsal=empSal+salhike\n",
        "            else :\n",
        "                salhike=empSal*.10\n",
        "                upsal=empSal+salhike\n",
        "        else :\n",
        "                salhike=empSal*.10\n",
        "                upsal=empSal+salhike\n",
        "        print('Name\\t\\tDesignation\\t Experiance\\t Present Salary\\t Hike\\t\\t Updated Salary\\n')\n",
        "        print(empname+'\\t'+str(empdesig)+'\\t\\t '+str(empexp)+'\\t\\t '+str(empSal)+'\\t\\t '+str(salhike)+'\\t\\t '+str(upsal)+'\\n')\n",
        "    except:\n",
        "        print('Enter Correct Details ..........')"
      ],
      "metadata": {
        "colab": {
          "base_uri": "https://localhost:8080/"
        },
        "id": "K8czCjh_o8yf",
        "outputId": "9f704522-94a1-4663-bbe9-5a64070367d7"
      },
      "execution_count": 4,
      "outputs": [
        {
          "output_type": "stream",
          "name": "stdout",
          "text": [
            "Enter No of Employees :1\n",
            "Enter Employee Name :Vishnuvarthan V\n",
            "Enter VISHNUVARTHAN V's Designation :Staff Engineer\n",
            "Enter VISHNUVARTHAN V's Experiance :14\n",
            "Enter VISHNUVARTHAN V's Salary :3000000\n",
            "Name\t\tDesignation\t Experiance\t Present Salary\t Hike\t\t Updated Salary\n",
            "\n",
            "VISHNUVARTHAN V\tSTAFF ENGINEER\t\t 14\t\t 3000000\t\t 300000.0\t\t 3300000.0\n",
            "\n"
          ]
        }
      ]
    }
  ]
}