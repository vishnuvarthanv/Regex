{
  "cells": [
    {
      "cell_type": "markdown",
      "metadata": {
        "id": "view-in-github",
        "colab_type": "text"
      },
      "source": [
        "<a href=\"https://colab.research.google.com/github/vishnuvarthanv/Regex-DataScience/blob/main/Assignment1.ipynb\" target=\"_parent\"><img src=\"https://colab.research.google.com/assets/colab-badge.svg\" alt=\"Open In Colab\"/></a>"
      ]
    },
    {
      "cell_type": "markdown",
      "source": [
        "#Write code in python to print following patterns:-\n",
        "\n",
        "Assignment 1 - Pattern questions in Python \n",
        "Name : Vishnuvarthan V"
      ],
      "metadata": {
        "id": "y9yNsHX_j4Cv"
      },
      "id": "y9yNsHX_j4Cv"
    },
    {
      "cell_type": "markdown",
      "source": [
        "## Task 1"
      ],
      "metadata": {
        "id": "Mf6pWaQp4kxa"
      },
      "id": "Mf6pWaQp4kxa"
    },
    {
      "cell_type": "code",
      "execution_count": 2,
      "id": "79d4e64b",
      "metadata": {
        "colab": {
          "base_uri": "https://localhost:8080/"
        },
        "id": "79d4e64b",
        "outputId": "9eb105c3-890f-405e-ad8c-1b954fe7d3cc"
      },
      "outputs": [
        {
          "output_type": "stream",
          "name": "stdout",
          "text": [
            "Input the number 6\n",
            "5 5 5 5 5 5  \n",
            "5 5 5 5 5  \n",
            "5 5 5 5  \n",
            "5 5 5  \n",
            "5 5  \n",
            "5  \n"
          ]
        }
      ],
      "source": [
        "lines = int(input(\"Input the number \"))\n",
        "for i in range(lines,0,-1) :\n",
        "    for j in range(0,i) :\n",
        "        print(\"5\", end=\" \")\n",
        "    print(\" \")"
      ]
    },
    {
      "cell_type": "markdown",
      "source": [
        "## Task 2"
      ],
      "metadata": {
        "id": "7matBC7e4wWd"
      },
      "id": "7matBC7e4wWd"
    },
    {
      "cell_type": "code",
      "execution_count": 6,
      "id": "e3ef78e5",
      "metadata": {
        "colab": {
          "base_uri": "https://localhost:8080/"
        },
        "id": "e3ef78e5",
        "outputId": "79eb1540-5038-48e0-aecd-9e5379437d31"
      },
      "outputs": [
        {
          "output_type": "stream",
          "name": "stdout",
          "text": [
            "Input the number 6\n",
            "0 1 2 3 4 5  \n",
            "0 1 2 3 4  \n",
            "0 1 2 3  \n",
            "0 1 2  \n",
            "0 1  \n"
          ]
        }
      ],
      "source": [
        "lines = int(input(\"Input the number \"))\n",
        "for i in range(lines,1,-1) :\n",
        "    for j in range(0,i) :\n",
        "        print(j, end=\" \")\n",
        "    print(\" \")"
      ]
    },
    {
      "cell_type": "markdown",
      "source": [
        "## Task 3"
      ],
      "metadata": {
        "id": "MqWuVPj95JDn"
      },
      "id": "MqWuVPj95JDn"
    },
    {
      "cell_type": "code",
      "execution_count": 9,
      "id": "70e8d173",
      "metadata": {
        "colab": {
          "base_uri": "https://localhost:8080/"
        },
        "id": "70e8d173",
        "outputId": "2ab1f35f-726b-4c58-f885-c59b421fda44"
      },
      "outputs": [
        {
          "output_type": "stream",
          "name": "stdout",
          "text": [
            "Input the number of iteration5\n",
            "1 \n",
            "3 3 \n",
            "5 5 5 \n",
            "7 7 7 7 \n",
            "9 9 9 9 9 \n"
          ]
        }
      ],
      "source": [
        "iteration = int(input(\"Input the number of iteration\"))\n",
        "i = 1\n",
        "while i <=iteration:\n",
        "    j = 1\n",
        "    while j <=i :\n",
        "        print((i*2)-1, end =\" \")\n",
        "        j= j+1\n",
        "    i = i + 1\n",
        "    print()\n",
        "    "
      ]
    },
    {
      "cell_type": "markdown",
      "source": [
        "## Task 4"
      ],
      "metadata": {
        "id": "B6I7q16s5dUL"
      },
      "id": "B6I7q16s5dUL"
    },
    {
      "cell_type": "code",
      "execution_count": 11,
      "id": "321d4180",
      "metadata": {
        "colab": {
          "base_uri": "https://localhost:8080/"
        },
        "id": "321d4180",
        "outputId": "2a2b6940-b41c-40c8-cfb8-ab4c22cd6320"
      },
      "outputs": [
        {
          "output_type": "stream",
          "name": "stdout",
          "text": [
            "Pleas input the number 5\n",
            "1 \n",
            "2 1 \n",
            "3 2 1 \n",
            "4 3 2 1 \n",
            "5 4 3 2 1 \n"
          ]
        }
      ],
      "source": [
        "lines = int(input(\"Pleas input the number \"))\n",
        "for i  in range(0,lines) :\n",
        "    for j in range(i+1,0,-1) :\n",
        "        print(j, end=\" \")\n",
        "    print(\"\")"
      ]
    },
    {
      "cell_type": "markdown",
      "source": [
        "##Task 5"
      ],
      "metadata": {
        "id": "CHZ5hiZh8ngp"
      },
      "id": "CHZ5hiZh8ngp"
    },
    {
      "cell_type": "code",
      "execution_count": 13,
      "id": "42cb6f86",
      "metadata": {
        "colab": {
          "base_uri": "https://localhost:8080/"
        },
        "id": "42cb6f86",
        "outputId": "1fe6faa0-9f9c-4164-8804-3eb6c818f51c"
      },
      "outputs": [
        {
          "output_type": "stream",
          "name": "stdout",
          "text": [
            "Please input the number 5\n",
            "1 \n",
            "3 2 \n",
            "6 5 4 \n",
            "10 9 8 7 \n",
            "15 14 13 12 11 \n"
          ]
        }
      ],
      "source": [
        "lines = int(input(\"Please input the number \"))\n",
        "b = 0\n",
        "for i in range(1,lines+1):\n",
        "    b+=i\n",
        "    c = b\n",
        "    for j in range(i):\n",
        "        print(c, end=\" \")\n",
        "        c-=1\n",
        "    print()"
      ]
    },
    {
      "cell_type": "markdown",
      "source": [
        "## Task 6"
      ],
      "metadata": {
        "id": "DtqTQvlR84WG"
      },
      "id": "DtqTQvlR84WG"
    },
    {
      "cell_type": "code",
      "source": [
        "c = 1\n",
        "lines = int(input(\"Please input the number \"))\n",
        "for i in range(1, lines+1):\n",
        "    for j in range(0, i):\n",
        "        if j==0 or i==0:\n",
        "            c = 1\n",
        "        else:\n",
        "            c = c * (i - j)//j\n",
        "        print(c, end = \" \")\n",
        "    print(\"\\r\")\n",
        "\n"
      ],
      "metadata": {
        "colab": {
          "base_uri": "https://localhost:8080/"
        },
        "id": "VnWxMveOGbqT",
        "outputId": "ac7b7abc-898d-4129-d018-f9c2e52244fe"
      },
      "id": "VnWxMveOGbqT",
      "execution_count": 17,
      "outputs": [
        {
          "output_type": "stream",
          "name": "stdout",
          "text": [
            "Please input the number 7\n",
            "1 \n",
            "1 1 \n",
            "1 2 1 \n",
            "1 3 3 1 \n",
            "1 4 6 4 1 \n",
            "1 5 10 10 5 1 \n",
            "1 6 15 20 15 6 1 \n"
          ]
        }
      ]
    },
    {
      "cell_type": "markdown",
      "source": [
        "## Task 7"
      ],
      "metadata": {
        "id": "HgMy2lkr9a3-"
      },
      "id": "HgMy2lkr9a3-"
    },
    {
      "cell_type": "code",
      "execution_count": 23,
      "id": "f1b2dd0a",
      "metadata": {
        "colab": {
          "base_uri": "https://localhost:8080/"
        },
        "id": "f1b2dd0a",
        "outputId": "5d5031fb-166b-4ee1-a811-73427af23034"
      },
      "outputs": [
        {
          "output_type": "stream",
          "name": "stdout",
          "text": [
            "Input the number 6\n",
            "1 2 3 4 5 \n",
            "2 2 3 4 5 \n",
            "3 3 3 4 5 \n",
            "4 4 4 4 5 \n",
            "5 5 5 5 5 \n"
          ]
        }
      ],
      "source": [
        "lines = int(input(\"Input the number \"))\n",
        "for i in range(1,lines) :\n",
        "    b = 1\n",
        "    for j in range(1,lines) :\n",
        "        if j <=i:\n",
        "            print(i, end=' ')\n",
        "        else :\n",
        "            print(j, end=' ')\n",
        "    print()"
      ]
    },
    {
      "cell_type": "markdown",
      "source": [
        "##Task 8"
      ],
      "metadata": {
        "id": "Nd6erCm3Iakp"
      },
      "id": "Nd6erCm3Iakp"
    },
    {
      "cell_type": "code",
      "execution_count": 26,
      "id": "598d0f26",
      "metadata": {
        "colab": {
          "base_uri": "https://localhost:8080/"
        },
        "id": "598d0f26",
        "outputId": "6a90097d-fbdf-4d56-af62-ef9d52d21f2d"
      },
      "outputs": [
        {
          "output_type": "stream",
          "name": "stdout",
          "text": [
            "Please input the number 9\n",
            "1 \n",
            "2 4 \n",
            "3 6 9 \n",
            "4 8 12 16 \n",
            "5 10 15 20 25 \n",
            "6 12 18 24 30 36 \n",
            "7 14 21 28 35 42 49 \n",
            "8 16 24 32 40 48 56 64 \n"
          ]
        }
      ],
      "source": [
        "lines = int(input(\"Please input the number \"))\n",
        "for i in range(1,lines) :\n",
        "    for j in range(1,i+1) :\n",
        "        print(i * j, end =\" \")\n",
        "    print()"
      ]
    },
    {
      "cell_type": "markdown",
      "source": [
        "## Task 9"
      ],
      "metadata": {
        "id": "arc3xNPtI0a2"
      },
      "id": "arc3xNPtI0a2"
    },
    {
      "cell_type": "code",
      "execution_count": 27,
      "id": "48919eab",
      "metadata": {
        "colab": {
          "base_uri": "https://localhost:8080/"
        },
        "id": "48919eab",
        "outputId": "59748a0f-b3bd-40a5-d4b3-5c3cb0b062c4"
      },
      "outputs": [
        {
          "output_type": "stream",
          "name": "stdout",
          "text": [
            "Please input the number 7\n",
            "            * * * * * * * *  \n",
            "             * * * * * * *  \n",
            "              * * * * * *  \n",
            "               * * * * *  \n",
            "                * * * *  \n",
            "                 * * *  \n",
            "                  * *  \n",
            "                   *  \n"
          ]
        }
      ],
      "source": [
        "lines = int(input(\"Please input the number \"))\n",
        "b = 2 * lines - 2\n",
        "for i in range(lines, -1, -1) :\n",
        "    for j in range(b, 0, -1) :\n",
        "        print(end=\" \")\n",
        "    b +=1\n",
        "    for j in range(0,i+1) :\n",
        "        print(\"*\", end=\" \")\n",
        "    print(\" \")"
      ]
    },
    {
      "cell_type": "markdown",
      "source": [
        "## Task 10"
      ],
      "metadata": {
        "id": "MYnXDjHmLG0z"
      },
      "id": "MYnXDjHmLG0z"
    },
    {
      "cell_type": "code",
      "execution_count": 29,
      "id": "57246e51",
      "metadata": {
        "colab": {
          "base_uri": "https://localhost:8080/"
        },
        "id": "57246e51",
        "outputId": "adb31c73-e692-4a7d-f25c-28d4ed210b04"
      },
      "outputs": [
        {
          "output_type": "stream",
          "name": "stdout",
          "text": [
            "Please input the number 7\n",
            "            *  \n",
            "           * *  \n",
            "          * * *  \n",
            "         * * * *  \n",
            "        * * * * *  \n",
            "       * * * * * *  \n",
            "      * * * * * * *  \n"
          ]
        }
      ],
      "source": [
        "lines = int(input(\"Please input the number \"))\n",
        "b = 2 * lines - 2\n",
        "for i in range(0,lines) :\n",
        "    for j in range(0,b) :\n",
        "        print(end=\" \")\n",
        "    b-=1\n",
        "    for j in range(0,i+1) :\n",
        "        print(\"*\", end = \" \")\n",
        "    print(\" \")"
      ]
    },
    {
      "cell_type": "markdown",
      "source": [
        "## Task 11"
      ],
      "metadata": {
        "id": "0oML4NkNOiDR"
      },
      "id": "0oML4NkNOiDR"
    },
    {
      "cell_type": "code",
      "execution_count": 30,
      "id": "35898373",
      "metadata": {
        "colab": {
          "base_uri": "https://localhost:8080/"
        },
        "id": "35898373",
        "outputId": "cc261986-22e0-4a19-a5e5-589271529e04"
      },
      "outputs": [
        {
          "output_type": "stream",
          "name": "stdout",
          "text": [
            "Please input the number 7\n",
            "\n",
            "* \n",
            "* * \n",
            "* * * \n",
            "* * * * \n",
            "* * * * * \n",
            "* * * * * * \n",
            "\n",
            "* * * * * * \n",
            "* * * * * \n",
            "* * * * \n",
            "* * * \n",
            "* * \n",
            "* \n",
            "\n"
          ]
        }
      ],
      "source": [
        "lines = int(input(\"Please input the number \"))\n",
        "for i in range(0,lines) :\n",
        "    for j in range(0,i) :\n",
        "        print(\"*\", end=\" \")\n",
        "    print()\n",
        "print()\n",
        "for i in range(lines,0,-1) :\n",
        "    for j in range(i-1) :\n",
        "        print(\"*\", end=\" \")\n",
        "    print()"
      ]
    },
    {
      "cell_type": "markdown",
      "source": [
        "## Task 12"
      ],
      "metadata": {
        "id": "6K71bgQOOyAu"
      },
      "id": "6K71bgQOOyAu"
    },
    {
      "cell_type": "code",
      "execution_count": 31,
      "id": "e48194ea",
      "metadata": {
        "colab": {
          "base_uri": "https://localhost:8080/"
        },
        "id": "e48194ea",
        "outputId": "2bc847d0-d6b3-4fbb-ea5b-3371e9af435b"
      },
      "outputs": [
        {
          "output_type": "stream",
          "name": "stdout",
          "text": [
            "Please input the number 7\n",
            "\n",
            "* \n",
            "* * \n",
            "* * * \n",
            "* * * * \n",
            "* * * * * \n",
            "* * * * * * \n",
            "* * * * * \n",
            "* * * * \n",
            "* * * \n",
            "* * \n",
            "* \n",
            "\n"
          ]
        }
      ],
      "source": [
        "lines = int(input(\"Please input the number \"))\n",
        "for i in range(0,lines) :\n",
        "    for j in range(0,i) :\n",
        "        print(\"*\", end = \" \")\n",
        "    print()\n",
        "for i in range(lines,1,-1) :\n",
        "    for j in range(1,i-1) :\n",
        "        print(\"*\",end=\" \")\n",
        "    print()"
      ]
    },
    {
      "cell_type": "markdown",
      "source": [
        "## Task 13"
      ],
      "metadata": {
        "id": "txjHocucO9DE"
      },
      "id": "txjHocucO9DE"
    },
    {
      "cell_type": "code",
      "execution_count": 32,
      "id": "ed22a456",
      "metadata": {
        "colab": {
          "base_uri": "https://localhost:8080/"
        },
        "id": "ed22a456",
        "outputId": "0de54a99-fa48-4d0b-edf2-881b8e0ad0ee"
      },
      "outputs": [
        {
          "output_type": "stream",
          "name": "stdout",
          "text": [
            "Please input the number 7\n",
            "              \n",
            "            * \n",
            "          * * \n",
            "        * * * \n",
            "      * * * * \n",
            "    * * * * * \n",
            "  * * * * * * \n",
            "* * * * * * * \n",
            "  * * * * * * \n",
            "    * * * * * \n",
            "      * * * * \n",
            "        * * * \n",
            "          * * \n",
            "            * \n"
          ]
        }
      ],
      "source": [
        "lines = int(input(\"Please input the number \"))\n",
        "for i in range(0,lines) :\n",
        "    for j in range(lines-i) :\n",
        "        print(\" \", end=\" \")\n",
        "    for j in range(0,i) :\n",
        "        print(\"*\", end=\" \")\n",
        "    print()\n",
        "\n",
        "for i in range(lines, 0,-1) :\n",
        "    for j in range(lines-i) :\n",
        "        print(\" \", end=\" \")\n",
        "    for j in range(0,i) :\n",
        "        print(\"*\", end=' ')\n",
        "    print()"
      ]
    },
    {
      "cell_type": "markdown",
      "source": [
        "## Task 14"
      ],
      "metadata": {
        "id": "dUi7onJqPZ3t"
      },
      "id": "dUi7onJqPZ3t"
    },
    {
      "cell_type": "code",
      "execution_count": 33,
      "id": "5b8baa4c",
      "metadata": {
        "colab": {
          "base_uri": "https://localhost:8080/"
        },
        "id": "5b8baa4c",
        "outputId": "22b56233-d3dc-4ce7-f7ac-7ea7e0bc836d"
      },
      "outputs": [
        {
          "output_type": "stream",
          "name": "stdout",
          "text": [
            "Please input the number 7\n",
            "            * * * * * * * * \n",
            "             * * * * * * * \n",
            "              * * * * * * \n",
            "               * * * * * \n",
            "                * * * * \n",
            "                 * * * \n",
            "                  * * \n",
            "                   * \n",
            "                   * \n",
            "                  * * \n",
            "                 * * * \n",
            "                * * * * \n",
            "               * * * * * \n",
            "              * * * * * * \n",
            "             * * * * * * * \n"
          ]
        }
      ],
      "source": [
        "lines = int(input(\"Please input the number \"))\n",
        "b = 2 * lines - 2\n",
        "for i in range(lines,-1,-1) :\n",
        "    for j in range(b,0,-1) :\n",
        "        print(end=\" \")\n",
        "    b+=1\n",
        "    for j in range(0,i+1) :\n",
        "        print(\"*\", end=\" \")\n",
        "    print(\"\")\n",
        "for i in range(0,lines) :\n",
        "    for j in range(1,b) :\n",
        "        print(end=\" \") \n",
        "    b-=1\n",
        "    for j in range(0,i+1) :\n",
        "        print(\"*\", end=\" \")\n",
        "    print(\"\")"
      ]
    },
    {
      "cell_type": "markdown",
      "source": [
        "## Task 15"
      ],
      "metadata": {
        "id": "Bp2upn8MPpwj"
      },
      "id": "Bp2upn8MPpwj"
    },
    {
      "cell_type": "code",
      "execution_count": 37,
      "id": "8537cd00",
      "metadata": {
        "colab": {
          "base_uri": "https://localhost:8080/"
        },
        "id": "8537cd00",
        "outputId": "4f8fc5c3-ac2f-42f3-f989-26e8b2231dfa"
      },
      "outputs": [
        {
          "output_type": "stream",
          "name": "stdout",
          "text": [
            "Please input the number 15\n",
            "***************\n",
            "******__******\n",
            "*****____*****\n",
            "****______****\n",
            "***________***\n",
            "**__________**\n",
            "*____________*\n"
          ]
        }
      ],
      "source": [
        "lines = int(input(\"Please input the number \"))\n",
        "print(\"*\"*lines, end=\"\\n\")\n",
        "i = (lines//2) - 1\n",
        "j = 2\n",
        "while i != 0:\n",
        "    while j <= (lines-2) :\n",
        "        print(\"*\"*i, end=\"\")\n",
        "        print(\"_\"*j, end=\"\")\n",
        "        print(\"*\"*i, end=\"\\n\")\n",
        "        i-=1\n",
        "        j+=2"
      ]
    },
    {
      "cell_type": "code",
      "execution_count": null,
      "id": "871dabbb",
      "metadata": {
        "id": "871dabbb"
      },
      "outputs": [],
      "source": [
        ""
      ]
    }
  ],
  "metadata": {
    "kernelspec": {
      "display_name": "Python 3",
      "language": "python",
      "name": "python3"
    },
    "language_info": {
      "codemirror_mode": {
        "name": "ipython",
        "version": 3
      },
      "file_extension": ".py",
      "mimetype": "text/x-python",
      "name": "python",
      "nbconvert_exporter": "python",
      "pygments_lexer": "ipython3",
      "version": "3.9.5"
    },
    "colab": {
      "name": "Assignment1.ipynb",
      "provenance": [],
      "collapsed_sections": [],
      "include_colab_link": true
    }
  },
  "nbformat": 4,
  "nbformat_minor": 5
}